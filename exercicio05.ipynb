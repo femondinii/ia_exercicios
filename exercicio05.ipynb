{
 "cells": [
  {
   "cell_type": "code",
   "execution_count": 1,
   "metadata": {},
   "outputs": [
    {
     "name": "stdout",
     "output_type": "stream",
     "text": [
      "Caminho encontrado: ['Arad', 'Sibiu', 'Fagaras', 'Bucharest']\n"
     ]
    }
   ],
   "source": [
    "import heapq\n",
    "\n",
    "def busca_gulosa(grafo, heuristicas, start, goal):\n",
    "    open_list = []\n",
    "    heapq.heappush(open_list, (heuristicas[start], start))\n",
    "    came_from = {}\n",
    "    came_from[start] = None\n",
    "    \n",
    "    while open_list:\n",
    "        current = heapq.heappop(open_list)[1]\n",
    "        \n",
    "        if current == goal:\n",
    "            break\n",
    "        \n",
    "        for neighbor, cost in grafo[current].items():\n",
    "            if neighbor not in came_from:\n",
    "                priority = heuristicas[neighbor]\n",
    "                heapq.heappush(open_list, (priority, neighbor))\n",
    "                came_from[neighbor] = current\n",
    "    \n",
    "    path = []\n",
    "    while goal is not None:\n",
    "        path.append(goal)\n",
    "        goal = came_from.get(goal, None)\n",
    "    \n",
    "    path.reverse()\n",
    "    return path\n",
    "\n",
    "grafo = {\n",
    "    'Arad': {'Zerind': 75, 'Sibiu': 140, 'Timisoara': 118},\n",
    "    'Zerind': {'Oradea': 71, 'Arad': 75},\n",
    "    'Oradea': {'Sibiu': 151, 'Zerind': 71},\n",
    "    'Sibiu': {'Fagaras': 99, 'Rimnicu Vilcea': 80, 'Arad': 140, 'Oradea': 151},\n",
    "    'Fagaras': {'Bucharest': 211, 'Sibiu': 99},\n",
    "    'Rimnicu Vilcea': {'Pitesti': 97, 'Craiova': 146, 'Sibiu': 80},\n",
    "    'Pitesti': {'Bucharest': 101, 'Rimnicu Vilcea': 97},\n",
    "    'Craiova': {'Drobeta': 120, 'Rimnicu Vilcea': 146},\n",
    "    'Drobeta': {'Mehadia': 75, 'Craiova': 120},\n",
    "    'Mehadia': {'Lugoj': 70, 'Drobeta': 75},\n",
    "    'Lugoj': {'Timisoara': 118, 'Mehadia': 70},\n",
    "    'Timisoara': {'Arad': 118, 'Lugoj': 118},\n",
    "    'Bucharest': {'Fagaras': 211, 'Pitesti': 101}\n",
    "}\n",
    "\n",
    "heuristicas = {\n",
    "    'Arad': 366,\n",
    "    'Zerind': 374,\n",
    "    'Oradea': 380,\n",
    "    'Sibiu': 253,\n",
    "    'Fagaras': 178,\n",
    "    'Rimnicu Vilcea': 193,\n",
    "    'Pitesti': 98,\n",
    "    'Craiova': 242,\n",
    "    'Drobeta': 242,\n",
    "    'Mehadia': 241,\n",
    "    'Lugoj': 244,\n",
    "    'Timisoara': 329,\n",
    "    'Bucharest': 0\n",
    "}\n",
    "\n",
    "start = 'Arad'\n",
    "goal = 'Bucharest'\n",
    "caminho = busca_gulosa(grafo, heuristicas, start, goal)\n",
    "print(\"Caminho encontrado:\", caminho)\n"
   ]
  }
 ],
 "metadata": {
  "kernelspec": {
   "display_name": "Python 3",
   "language": "python",
   "name": "python3"
  },
  "language_info": {
   "codemirror_mode": {
    "name": "ipython",
    "version": 3
   },
   "file_extension": ".py",
   "mimetype": "text/x-python",
   "name": "python",
   "nbconvert_exporter": "python",
   "pygments_lexer": "ipython3",
   "version": "3.12.5"
  }
 },
 "nbformat": 4,
 "nbformat_minor": 2
}
