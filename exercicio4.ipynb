{
 "cells": [
  {
   "cell_type": "code",
   "execution_count": 11,
   "metadata": {},
   "outputs": [
    {
     "ename": "ValueError",
     "evalue": "tuple.index(x): x not in tuple",
     "output_type": "error",
     "traceback": [
      "\u001b[1;31m---------------------------------------------------------------------------\u001b[0m",
      "\u001b[1;31mValueError\u001b[0m                                Traceback (most recent call last)",
      "Cell \u001b[1;32mIn[11], line 71\u001b[0m\n\u001b[0;32m     68\u001b[0m estado_objetivo \u001b[38;5;241m=\u001b[39m (\u001b[38;5;241m1\u001b[39m, \u001b[38;5;241m2\u001b[39m, \u001b[38;5;241m3\u001b[39m, \u001b[38;5;241m4\u001b[39m, \u001b[38;5;241m5\u001b[39m, \u001b[38;5;241m6\u001b[39m, \u001b[38;5;241m7\u001b[39m, \u001b[38;5;241m8\u001b[39m)\n\u001b[0;32m     70\u001b[0m \u001b[38;5;66;03m# Executar a busca\u001b[39;00m\n\u001b[1;32m---> 71\u001b[0m solucao \u001b[38;5;241m=\u001b[39m \u001b[43mbusca_em_largura\u001b[49m\u001b[43m(\u001b[49m\u001b[43mestado_inicial\u001b[49m\u001b[43m,\u001b[49m\u001b[43m \u001b[49m\u001b[43mestado_objetivo\u001b[49m\u001b[43m)\u001b[49m\n\u001b[0;32m     72\u001b[0m \u001b[38;5;28;01mif\u001b[39;00m solucao:\n\u001b[0;32m     73\u001b[0m     \u001b[38;5;28mprint\u001b[39m(\u001b[38;5;124m\"\u001b[39m\u001b[38;5;124mSolução encontrada:\u001b[39m\u001b[38;5;124m\"\u001b[39m)\n",
      "Cell \u001b[1;32mIn[11], line 35\u001b[0m, in \u001b[0;36mbusca_em_largura\u001b[1;34m(inicio, objetivo)\u001b[0m\n\u001b[0;32m     34\u001b[0m \u001b[38;5;28;01mdef\u001b[39;00m \u001b[38;5;21mbusca_em_largura\u001b[39m(inicio, objetivo):\n\u001b[1;32m---> 35\u001b[0m     fila \u001b[38;5;241m=\u001b[39m deque([(inicio, \u001b[43minicio\u001b[49m\u001b[38;5;241;43m.\u001b[39;49m\u001b[43mindex\u001b[49m\u001b[43m(\u001b[49m\u001b[38;5;241;43m0\u001b[39;49m\u001b[43m)\u001b[49m)])\n\u001b[0;32m     36\u001b[0m     visitados \u001b[38;5;241m=\u001b[39m \u001b[38;5;28mset\u001b[39m()\n\u001b[0;32m     37\u001b[0m     visitados\u001b[38;5;241m.\u001b[39madd(inicio)\n",
      "\u001b[1;31mValueError\u001b[0m: tuple.index(x): x not in tuple"
     ]
    }
   ],
   "source": [
    "from collections import deque\n",
    "\n",
    "def index_to_pos(index):\n",
    "    return (index // 3, index % 3)\n",
    "\n",
    "def pos_to_index(row, col):\n",
    "    return row * 3 + col\n",
    "\n",
    "def movimentos(pos):\n",
    "    row, col = index_to_pos(pos)\n",
    "    movs = []\n",
    "    \n",
    "    if row > 0:\n",
    "        movs.append(pos_to_index(row - 1, col))\n",
    "    if row < 2: \n",
    "        movs.append(pos_to_index(row + 1, col))\n",
    "    if col > 0: \n",
    "        movs.append(pos_to_index(row, col - 1))\n",
    "    if col < 2: \n",
    "        movs.append(pos_to_index(row, col + 1))\n",
    "    \n",
    "    return movs\n",
    "\n",
    "def aplica_movimento(estado, pos_vazia, novo_pos):\n",
    "    estado_lista = list(estado)\n",
    "    estado_lista[pos_vazia], estado_lista[novo_pos] = estado_lista[novo_pos], estado_lista[pos_vazia]\n",
    "    return tuple(estado_lista)\n",
    "\n",
    "def busca_em_largura(inicio, objetivo):\n",
    "    fila = deque([(inicio, inicio.index(0))])\n",
    "    visitados = set()\n",
    "    visitados.add(inicio)\n",
    "    caminho = {inicio: None}\n",
    "\n",
    "    while fila:\n",
    "        estado_atual, pos_vazia = fila.popleft()\n",
    "        \n",
    "        if estado_atual == objetivo:\n",
    "            return reconstrua_caminho(caminho, estado_atual)\n",
    "        \n",
    "        for novo_pos in movimentos(pos_vazia):\n",
    "            novo_estado = aplica_movimento(estado_atual, pos_vazia, novo_pos)\n",
    "            \n",
    "            if novo_estado not in visitados:\n",
    "                visitados.add(novo_estado)\n",
    "                fila.append((novo_estado, novo_pos))\n",
    "                caminho[novo_estado] = estado_atual\n",
    "    \n",
    "    return None\n",
    "\n",
    "def reconstrua_caminho(caminho, estado_final):\n",
    "    caminho_solucao = []\n",
    "    while estado_final is not None:\n",
    "        caminho_solucao.append(estado_final)\n",
    "        estado_final = caminho[estado_final]\n",
    "    return caminho_solucao[::-1]\n",
    "\n",
    "estado_inicial = (4, 2, 7, 0, 8, 6, 3, 5, 1)\n",
    "estado_objetivo = (1, 2, 3, 4, 5, 6, 7, 8, 0)\n",
    "\n",
    "solucao = busca_em_largura(estado_inicial, estado_objetivo)\n",
    "if solucao:\n",
    "    print(\"Solução encontrada:\")\n",
    "    for passo in solucao:\n",
    "        print(passo)\n",
    "else:\n",
    "    print(\"Nenhuma solução encontrada.\")\n"
   ]
  }
 ],
 "metadata": {
  "kernelspec": {
   "display_name": "Python 3",
   "language": "python",
   "name": "python3"
  },
  "language_info": {
   "codemirror_mode": {
    "name": "ipython",
    "version": 3
   },
   "file_extension": ".py",
   "mimetype": "text/x-python",
   "name": "python",
   "nbconvert_exporter": "python",
   "pygments_lexer": "ipython3",
   "version": "3.12.3"
  }
 },
 "nbformat": 4,
 "nbformat_minor": 2
}
