{
 "cells": [
  {
   "cell_type": "code",
   "execution_count": 1,
   "metadata": {},
   "outputs": [
    {
     "name": "stdout",
     "output_type": "stream",
     "text": [
      "Caminho encontrado: [(0, 0), (1, 0), (2, 1), (2, 2), (3, 3), (3, 4), (4, 5), (5, 5)]\n"
     ]
    }
   ],
   "source": [
    "import heapq\n",
    "import math\n",
    "\n",
    "def heuristic(x1, y1, x2, y2):\n",
    "    \"\"\"Calcula a heurística Euclidiana entre dois pontos (x1, y1) e (x2, y2).\"\"\"\n",
    "    return math.sqrt((x2 - x1) ** 2 + (y2 - y1) ** 2)\n",
    "\n",
    "def a_star_search(grid, start, goal):\n",
    "    \"\"\"Executa a busca A* em uma matriz com obstáculos.\"\"\"\n",
    "    M, N = len(grid), len(grid[0])\n",
    "    open_list = []\n",
    "    heapq.heappush(open_list, (0 + heuristic(start[0], start[1], goal[0], goal[1]), 0, start))\n",
    "    came_from = {}\n",
    "    g_score = {start: 0}\n",
    "    \n",
    "    while open_list:\n",
    "        _, current_cost, current = heapq.heappop(open_list)\n",
    "        \n",
    "        if current == goal:\n",
    "            return reconstruct_path(came_from, current)\n",
    "        \n",
    "        x, y = current\n",
    "        for dx, dy, move_cost in [(0, 1, 10), (1, 0, 10), (0, -1, 10), (-1, 0, 10), \n",
    "                                 (1, 1, 14), (1, -1, 14), (-1, 1, 14), (-1, -1, 14)]:\n",
    "            neighbor = (x + dx, y + dy)\n",
    "            if is_valid(M, N, neighbor, grid):\n",
    "                tentative_g_score = g_score[current] + move_cost\n",
    "                if neighbor not in g_score or tentative_g_score < g_score[neighbor]:\n",
    "                    g_score[neighbor] = tentative_g_score\n",
    "                    f_score = tentative_g_score + heuristic(neighbor[0], neighbor[1], goal[0], goal[1])\n",
    "                    heapq.heappush(open_list, (f_score, tentative_g_score, neighbor))\n",
    "                    came_from[neighbor] = current\n",
    "    \n",
    "    return [] \n",
    "\n",
    "def is_valid(M, N, pos, grid):\n",
    "    \"\"\"Verifica se a posição está dentro dos limites e não é um obstáculo.\"\"\"\n",
    "    x, y = pos\n",
    "    return 0 <= x < M and 0 <= y < N and grid[x][y] != 1\n",
    "\n",
    "def reconstruct_path(came_from, current):\n",
    "    \"\"\"Reconstrói o caminho desde o nó final até o início.\"\"\"\n",
    "    path = [current]\n",
    "    while current in came_from:\n",
    "        current = came_from[current]\n",
    "        path.append(current)\n",
    "    path.reverse()\n",
    "    return path\n",
    "\n",
    "\n",
    "grid = [\n",
    "    [0, 0, 0, 0, 0, 0],\n",
    "    [0, 1, 1, 1, 0, 0],\n",
    "    [0, 0, 0, 1, 0, 0],\n",
    "    [0, 1, 0, 0, 0, 0],\n",
    "    [0, 1, 1, 1, 1, 0],\n",
    "    [0, 0, 0, 0, 0, 0]\n",
    "]\n",
    "\n",
    "start = (0, 0)\n",
    "goal = (5, 5)\n",
    "\n",
    "path = a_star_search(grid, start, goal)\n",
    "print(\"Caminho encontrado:\", path)\n"
   ]
  }
 ],
 "metadata": {
  "kernelspec": {
   "display_name": "Python 3",
   "language": "python",
   "name": "python3"
  },
  "language_info": {
   "codemirror_mode": {
    "name": "ipython",
    "version": 3
   },
   "file_extension": ".py",
   "mimetype": "text/x-python",
   "name": "python",
   "nbconvert_exporter": "python",
   "pygments_lexer": "ipython3",
   "version": "3.12.5"
  }
 },
 "nbformat": 4,
 "nbformat_minor": 2
}
